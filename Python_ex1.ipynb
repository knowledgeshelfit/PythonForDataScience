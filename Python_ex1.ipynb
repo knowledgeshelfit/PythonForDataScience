{
 "cells": [
  {
   "cell_type": "markdown",
   "id": "a904c5c2-9365-4c08-88d6-e1ab64d2acec",
   "metadata": {},
   "source": [
    "# Only Linux\n",
    "## Only Linux\n",
    "### Only Linux\n",
    "#### Only Linux"
   ]
  },
  {
   "cell_type": "markdown",
   "id": "1f60426d-4b61-4c30-95b5-dcaca90805d1",
   "metadata": {},
   "source": [
    "<p>Welcome to Only Linux YouTube Channel!!!</p>"
   ]
  },
  {
   "cell_type": "markdown",
   "id": "ff3d1c84-81d3-4682-a6d5-a8ebfdf7a1fd",
   "metadata": {},
   "source": [
    "- Python\n",
    "- Java\n",
    "- C/C++\n",
    "- Javascript"
   ]
  },
  {
   "cell_type": "markdown",
   "id": "9396944c-e2f5-4c9b-aae9-4fc3687a7db7",
   "metadata": {},
   "source": [
    "[Python Website](https://www.python.org/)"
   ]
  },
  {
   "cell_type": "markdown",
   "id": "ef48647e-0a88-4f55-890b-2af236c0cf7a",
   "metadata": {},
   "source": [
    "## Basics of Python Programming"
   ]
  },
  {
   "cell_type": "code",
   "execution_count": 15,
   "id": "1cdbb636-f3b6-489b-9df4-b19b06644148",
   "metadata": {},
   "outputs": [
    {
     "name": "stdout",
     "output_type": "stream",
     "text": [
      "Hello World!!!\n",
      "200\n",
      "13\n",
      "Welcome to Python for Data Science!!!\n",
      "Python string's are very easy to use.\n",
      "We can even include double \"quotes\" in strings\n",
      "OnlyLinux\n",
      "Only Linux\n",
      "HelloLinux\n",
      "Hello Linux\n"
     ]
    }
   ],
   "source": [
    "print('Hello World!!!')\n",
    "print(10 * 20)\n",
    "print(7 + 6)\n",
    "print(\"Welcome to Python for Data Science!!!\")\n",
    "print(\"Python string's are very easy to use.\")\n",
    "print('We can even include double \"quotes\" in strings')\n",
    "print(\"Only\"+\"Linux\")\n",
    "print(\"Only\" + ' ' + \"Linux\")\n",
    "\n",
    "greeting = \"Hello\"\n",
    "name = \"Linux\"\n",
    "print(greeting + name)\n",
    "print(greeting + ' ' + name)"
   ]
  },
  {
   "cell_type": "code",
   "execution_count": 17,
   "id": "1f8c08c1-22c9-46e3-96e5-d57dc180ba5d",
   "metadata": {},
   "outputs": [
    {
     "name": "stdin",
     "output_type": "stream",
     "text": [
      "Please enter your name: Redhat\n"
     ]
    },
    {
     "name": "stdout",
     "output_type": "stream",
     "text": [
      "Hello Redhat\n"
     ]
    }
   ],
   "source": [
    "greeting = \"Hello\"\n",
    "name = input(\"Please enter your name:\")\n",
    "print(greeting + ' ' + name)"
   ]
  },
  {
   "cell_type": "code",
   "execution_count": 19,
   "id": "0b4a967f-1555-413c-b3a6-685272df7c37",
   "metadata": {},
   "outputs": [
    {
     "name": "stdout",
     "output_type": "stream",
     "text": [
      "1. This is Line1.\n",
      "2. This is Line2.\n",
      "3. This is Line3.\n"
     ]
    }
   ],
   "source": [
    "splitString = \"1. This is Line1.\\n2. This is Line2.\\n3. This is Line3.\"\n",
    "print(splitString)"
   ]
  },
  {
   "cell_type": "code",
   "execution_count": 20,
   "id": "5ef19552-e51c-4dd5-9d14-1fe5367c9d62",
   "metadata": {},
   "outputs": [
    {
     "name": "stdout",
     "output_type": "stream",
     "text": [
      "Line1\tLine2\tLine3\tLine4\tLine5\n"
     ]
    }
   ],
   "source": [
    "tabString = \"Line1\\tLine2\\tLine3\\tLine4\\tLine5\"\n",
    "print(tabString)"
   ]
  },
  {
   "cell_type": "code",
   "execution_count": 23,
   "id": "53c1f6f8-cae0-4a43-903c-b636551dc5e6",
   "metadata": {},
   "outputs": [
    {
     "name": "stdout",
     "output_type": "stream",
     "text": [
      "Hi Guy's. Welcome to \"Only Linux\" YouTube Channel. This is Python for \"Data Science\".\n",
      "Hi Guy's. Welcome to \"Only Linux\" YouTube Channel. This is Python for \"Data Science\".\n"
     ]
    }
   ],
   "source": [
    "print('Hi Guy\\'s. Welcome to \"Only Linux\" YouTube Channel. This is Python for \"Data Science\".')\n",
    "print(\"Hi Guy's. Welcome to \\\"Only Linux\\\" YouTube Channel. This is Python for \\\"Data Science\\\".\")"
   ]
  },
  {
   "cell_type": "code",
   "execution_count": 29,
   "id": "54906454-8b82-41e3-aebd-fcb0d0202440",
   "metadata": {},
   "outputs": [
    {
     "name": "stdout",
     "output_type": "stream",
     "text": [
      "1. This is Line1.\n",
      "2. This is Line2.\n",
      "3. This is Line3.\n"
     ]
    }
   ],
   "source": [
    "### Triple Quotes is used for Multiline Strings\n",
    "tripleQuotes = \"\"\"1. This is Line1.\n",
    "2. This is Line2.\n",
    "3. This is Line3.\"\"\"\n",
    "print(tripleQuotes)"
   ]
  },
  {
   "cell_type": "code",
   "execution_count": 30,
   "id": "50475c5e-1978-4eb0-ad9a-f98e3cc69552",
   "metadata": {},
   "outputs": [
    {
     "data": {
      "text/plain": [
       "'1. This is Line1.\\n2. This is Line2.\\n3. This is Line3.'"
      ]
     },
     "execution_count": 30,
     "metadata": {},
     "output_type": "execute_result"
    }
   ],
   "source": [
    "\"\"\"1. This is Line1.\n",
    "2. This is Line2.\n",
    "3. This is Line3.\"\"\""
   ]
  },
  {
   "cell_type": "code",
   "execution_count": 34,
   "id": "f9875baa-c9d9-49b3-b9e8-f1e2763c6500",
   "metadata": {},
   "outputs": [
    {
     "name": "stdout",
     "output_type": "stream",
     "text": [
      "Hi Guy's. Welcome to \"Only Linux\" YouTube Channel. This is Python for \"Data Science\".\n",
      "Hi Guy's. \n",
      "Welcome to \"Only Linux\" YouTube Channel. \n",
      "This is Python for \"Data Science\" Tutorial Series.\n"
     ]
    }
   ],
   "source": [
    "print('''Hi Guy's. Welcome to \"Only Linux\" YouTube Channel. This is Python for \"Data Science\".''')\n",
    "print(\"\"\"Hi Guy's. \n",
    "Welcome to \"Only Linux\" YouTube Channel. \n",
    "This is Python for \"Data Science\" Tutorial Series.\"\"\")"
   ]
  },
  {
   "cell_type": "code",
   "execution_count": null,
   "id": "7e6dd334-969f-4787-91c9-5ea2ee6ee131",
   "metadata": {},
   "outputs": [],
   "source": []
  }
 ],
 "metadata": {
  "kernelspec": {
   "display_name": "Python 3 (ipykernel)",
   "language": "python",
   "name": "python3"
  },
  "language_info": {
   "codemirror_mode": {
    "name": "ipython",
    "version": 3
   },
   "file_extension": ".py",
   "mimetype": "text/x-python",
   "name": "python",
   "nbconvert_exporter": "python",
   "pygments_lexer": "ipython3",
   "version": "3.10.4"
  }
 },
 "nbformat": 4,
 "nbformat_minor": 5
}
